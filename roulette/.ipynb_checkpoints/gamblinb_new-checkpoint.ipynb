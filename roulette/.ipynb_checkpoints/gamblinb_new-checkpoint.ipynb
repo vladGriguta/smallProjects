{
 "cells": [
  {
   "cell_type": "markdown",
   "metadata": {},
   "source": [
    "### Gambling system - Martingale\n",
    "In this notebook we will test the potential of using a generic Martingale scheme for consistently making profit on Roulette gambling. The aim of the notebook is to use a system that is as generic as possible, with as many hyper parameters as feasible and optimize for the profit.  \n",
    "  \n",
    "The idea goes as following: Rather than playing one game with potentially large losses, we play multiple smaller games with a fixed initial investment *S*. If that investment is lost, we don't fall into the sunk cost fallacy and continue to invest, but we initialize a new game with the same initial investment.  \n",
    "The first bet in the game is always a fixed percentage of the initial investment, *p*. On every gamble that we lose, we increase the next bet times a pre-defined function, *f(m)*, where *m* is the number of bets lost. For the begining, this will be a constant function, e.g. *f(m)=1.90*.\n",
    "The objective of one simulation in which we play *N* games is to compute the total profit (or loss) with a statistically significant margin.\n",
    "References:  \n",
    "[1] https://towardsdatascience.com/the-truth-about-the-martingale-betting-system-499c30467af1  \n",
    "[2] https://www.roulettesites.org/strategies/martingale/"
   ]
  },
  {
   "cell_type": "markdown",
   "metadata": {},
   "source": [
    "### Hyper Parameters:\n",
    "n - number of gables in a game  \n",
    "p - fractio of the first bet relative to the invested sum  \n",
    "f(m) - multiplier of the bet after each lost round"
   ]
  },
  {
   "cell_type": "markdown",
   "metadata": {},
   "source": [
    "### Game constraints:\n",
    "wp - winning percentage - (18/37 = 48.64%)  \n",
    "min_bet - assume £0.1  \n",
    "max_bet - assume £100k  \n",
    "min_p - 10^(-6)  "
   ]
  },
  {
   "cell_type": "markdown",
   "metadata": {},
   "source": [
    "### Plan:\n",
    "1. Create a function that simulates one game of gambles with the n, p and f(m) as hyper-parameters.\n",
    "2. Verify that the by blindly following the martingale strategy without a loss threshold we would eventually run out of cash. Specifically, that means that setting a large n the game will always yield a negative return\n",
    "3. Run a grid search over the space of n, p and f(m) in search of positive yields\n",
    "4. Estimate the statistical variance of the positive yields."
   ]
  },
  {
   "cell_type": "code",
   "execution_count": 8,
   "metadata": {},
   "outputs": [],
   "source": [
    "# initialize hyperparameters\n",
    "n = 10\n",
    "p = 0.01\n",
    "f = lambda x: 2.0**x\n",
    "\n",
    "# constraints:\n",
    "wp = float(18/37)\n",
    "min_p = 1e-6"
   ]
  },
  {
   "cell_type": "code",
   "execution_count": 7,
   "metadata": {},
   "outputs": [],
   "source": [
    "import numpy as np\n",
    "import pandas as pd\n",
    "import matplotlib.pyplot as plt"
   ]
  },
  {
   "cell_type": "code",
   "execution_count": 38,
   "metadata": {},
   "outputs": [],
   "source": [
    "def game(n,p,f):\n",
    "    lost_rounds = 0 # initialize counter\n",
    "    profit = 0 # initialize the profit\n",
    "    profit_array = []\n",
    "    \n",
    "    for i in range(n):\n",
    "        # record the current profit\n",
    "        profit_array.append(profit)\n",
    "        \n",
    "        # place the current bet\n",
    "        current_bet = p * f(lost_rounds)\n",
    "        \n",
    "        # if by placing the bet we go over threshold, then end the game with the current losses\n",
    "        if (profit-current_bet < -1):\n",
    "            return np.array(profit_array)\n",
    "        #else continue the game\n",
    "        else:\n",
    "            profit = profit - current_bet\n",
    "\n",
    "        # now run the bet\n",
    "        if (np.random.rand() < wp):\n",
    "            # won: profit in this round is equal to twice the current bet placed\n",
    "            profit = profit + 2 * current_bet\n",
    "            # re-initialize number of lost rounds in a row\n",
    "            lost_rounds = 0\n",
    "        else:\n",
    "            lost_rounds = lost_rounds + 1\n",
    "            \n",
    "    return np.array(profit_array)"
   ]
  },
  {
   "cell_type": "code",
   "execution_count": 42,
   "metadata": {},
   "outputs": [
    {
     "data": {
      "image/png": "[encoded data removed]",
      "text/plain": [
       "<Figure size 432x288 with 1 Axes>"
      ]
     },
     "metadata": {
      "needs_background": "light"
     },
     "output_type": "display_data"
    }
   ],
   "source": [
    "# 2. Verify that the function behaves as expected\n",
    "np.random.seed(1)\n",
    "profit_large_n = game(n=int(1e6),p=0.001,f=lambda x: 2.0**x)\n",
    "plt.plot(profit_large_n)\n",
    "plt.grid()\n",
    "plt.xlabel('Number of Gambles')\n",
    "plt.ylabel('Profit')\n",
    "plt.savefig('gambling_new/verify_simple_martingale.png')"
   ]
  },
  {
   "cell_type": "markdown",
   "metadata": {},
   "source": [
    "### 3. grid search over p, n and f(m)"
   ]
  },
  {
   "cell_type": "code",
   "execution_count": null,
   "metadata": {},
   "outputs": [],
   "source": [
    "def simulation(n,p,f,N=100,SEED=88):\n",
    "    np.random.seed(SEED)\n",
    "    profit_list = []\n",
    "    for i in range(N):\n",
    "        profit_list.append(run_game(n,p,f))\n",
    "    profit_list = np.array(profit_list)\n",
    "    return np.array(profit_list)"
   ]
  },
  {
   "cell_type": "code",
   "execution_count": null,
   "metadata": {},
   "outputs": [],
   "source": [
    "n = np.arange(1, 50, 1)  \n",
    "p = np.arange(0.005, 0.5, 0.005)  \n",
    "xa, xb = np.meshgrid(n, p)\n",
    "z = []\n",
    "for n_ in n:\n",
    "    for p_ in p:\n",
    "        z.append(game(n_,p_,f=f, N=100, SEED=None).mean())\n",
    "z = np.array(z).reshape((len(p),len(n)))\n",
    "z = 100 * z"
   ]
  },
  {
   "cell_type": "code",
   "execution_count": null,
   "metadata": {},
   "outputs": [],
   "source": []
  },
  {
   "cell_type": "code",
   "execution_count": null,
   "metadata": {},
   "outputs": [],
   "source": []
  },
  {
   "cell_type": "code",
   "execution_count": null,
   "metadata": {},
   "outputs": [],
   "source": []
  },
  {
   "cell_type": "code",
   "execution_count": null,
   "metadata": {},
   "outputs": [],
   "source": []
  },
  {
   "cell_type": "code",
   "execution_count": null,
   "metadata": {},
   "outputs": [],
   "source": []
  },
  {
   "cell_type": "code",
   "execution_count": null,
   "metadata": {},
   "outputs": [],
   "source": []
  },
  {
   "cell_type": "code",
   "execution_count": null,
   "metadata": {},
   "outputs": [],
   "source": []
  },
  {
   "cell_type": "code",
   "execution_count": null,
   "metadata": {},
   "outputs": [],
   "source": []
  }
 ],
 "metadata": {
  "kernelspec": {
   "display_name": "Python 3",
   "language": "python",
   "name": "python3"
  },
  "language_info": {
   "codemirror_mode": {
    "name": "ipython",
    "version": 3
   },
   "file_extension": ".py",
   "mimetype": "text/x-python",
   "name": "python",
   "nbconvert_exporter": "python",
   "pygments_lexer": "ipython3",
   "version": "3.7.3"
  }
 },
 "nbformat": 4,
 "nbformat_minor": 4
}
